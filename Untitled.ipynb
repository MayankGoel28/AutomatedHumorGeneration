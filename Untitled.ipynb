{
 "cells": [
  {
   "cell_type": "code",
   "execution_count": 1,
   "id": "f55117fa",
   "metadata": {},
   "outputs": [],
   "source": [
    "f1 = open(\"train.txt\")\n",
    "f2 = open(\"test.txt\")\n",
    "f3 = open(\"valid.txt\")"
   ]
  },
  {
   "cell_type": "code",
   "execution_count": 2,
   "id": "19be0934",
   "metadata": {},
   "outputs": [],
   "source": [
    "data1 = f1.readlines()\n",
    "data2 = f2.readlines()\n",
    "data3 = f3.readlines()"
   ]
  },
  {
   "cell_type": "code",
   "execution_count": 3,
   "id": "d32c9c35",
   "metadata": {},
   "outputs": [],
   "source": [
    "doc1 = '\\n\\n\\n'.join(data1)\n",
    "doc2 = '\\n\\n\\n'.join(data2)\n",
    "doc3 = '\\n\\n\\n'.join(data3)"
   ]
  },
  {
   "cell_type": "code",
   "execution_count": 5,
   "id": "ca9a01e8",
   "metadata": {},
   "outputs": [],
   "source": [
    "with open(\"train_c.txt\", \"w\") as text_file:\n",
    "    text_file.write(doc1)"
   ]
  },
  {
   "cell_type": "code",
   "execution_count": 6,
   "id": "b5cbe886",
   "metadata": {},
   "outputs": [],
   "source": [
    "with open(\"test_c.txt\", \"w\") as text_file:\n",
    "    text_file.write(doc2)"
   ]
  },
  {
   "cell_type": "code",
   "execution_count": 7,
   "id": "b8a72ee3",
   "metadata": {},
   "outputs": [],
   "source": [
    "with open(\"valid_c.txt\", \"w\") as text_file:\n",
    "    text_file.write(doc3)"
   ]
  },
  {
   "cell_type": "code",
   "execution_count": null,
   "id": "717c2b8c",
   "metadata": {},
   "outputs": [],
   "source": []
  }
 ],
 "metadata": {
  "kernelspec": {
   "display_name": "Python 3 (ipykernel)",
   "language": "python",
   "name": "python3"
  },
  "language_info": {
   "codemirror_mode": {
    "name": "ipython",
    "version": 3
   },
   "file_extension": ".py",
   "mimetype": "text/x-python",
   "name": "python",
   "nbconvert_exporter": "python",
   "pygments_lexer": "ipython3",
   "version": "3.10.12"
  }
 },
 "nbformat": 4,
 "nbformat_minor": 5
}
