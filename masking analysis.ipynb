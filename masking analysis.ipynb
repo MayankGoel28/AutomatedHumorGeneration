{
 "cells": [
  {
   "cell_type": "markdown",
   "id": "0cc612c0",
   "metadata": {},
   "source": [
    "# GPT Ground Truth"
   ]
  },
  {
   "cell_type": "code",
   "execution_count": 19,
   "id": "fd928319",
   "metadata": {},
   "outputs": [],
   "source": [
    "from tqdm import tqdm"
   ]
  },
  {
   "cell_type": "code",
   "execution_count": 20,
   "id": "fc88fc12",
   "metadata": {},
   "outputs": [],
   "source": [
    "f = open(\"jokegen/train.txt\")"
   ]
  },
  {
   "cell_type": "code",
   "execution_count": 21,
   "id": "3fb19a9f",
   "metadata": {},
   "outputs": [],
   "source": [
    "data = f.readlines()\n",
    "data = [i.strip() for i in data]"
   ]
  },
  {
   "cell_type": "code",
   "execution_count": 22,
   "id": "b17711a2",
   "metadata": {},
   "outputs": [],
   "source": [
    "f = open(\"jokegen/toxic_words.txt\")"
   ]
  },
  {
   "cell_type": "code",
   "execution_count": 23,
   "id": "653e763b",
   "metadata": {},
   "outputs": [],
   "source": [
    "toxic_words = f.readlines()"
   ]
  },
  {
   "cell_type": "code",
   "execution_count": 24,
   "id": "3c52a24b",
   "metadata": {},
   "outputs": [],
   "source": [
    "toxic_words = [i.strip() for i in toxic_words]"
   ]
  },
  {
   "cell_type": "code",
   "execution_count": 25,
   "id": "90dc6d89",
   "metadata": {},
   "outputs": [],
   "source": [
    "def is_clean(s):\n",
    "    for w in toxic_words:\n",
    "        if w in s:\n",
    "            return False\n",
    "    return True"
   ]
  },
  {
   "cell_type": "code",
   "execution_count": 26,
   "id": "bd64771c",
   "metadata": {},
   "outputs": [
    {
     "name": "stderr",
     "output_type": "stream",
     "text": [
      "100%|████████████████████████████████| 213786/213786 [00:12<00:00, 16978.24it/s]\n"
     ]
    }
   ],
   "source": [
    "new_data = []\n",
    "for i in tqdm(data):\n",
    "    if is_clean(i) and len(i) and '?' in i:\n",
    "        new_data.append(i)"
   ]
  },
  {
   "cell_type": "code",
   "execution_count": 27,
   "id": "b9fcf4e1",
   "metadata": {},
   "outputs": [
    {
     "data": {
      "text/plain": [
       "6415"
      ]
     },
     "execution_count": 27,
     "metadata": {},
     "output_type": "execute_result"
    }
   ],
   "source": [
    "len(new_data)"
   ]
  },
  {
   "cell_type": "code",
   "execution_count": 28,
   "id": "e2989746",
   "metadata": {},
   "outputs": [],
   "source": [
    "import random\n",
    "random.seed(42)"
   ]
  },
  {
   "cell_type": "code",
   "execution_count": 29,
   "id": "de4aea72",
   "metadata": {},
   "outputs": [],
   "source": [
    "selections = random.choices(new_data, k=100)"
   ]
  },
  {
   "cell_type": "code",
   "execution_count": 30,
   "id": "697f3f1f",
   "metadata": {
    "scrolled": true
   },
   "outputs": [
    {
     "data": {
      "text/plain": [
       "['Wanna hear a good joke? You.',\n",
       " 'What day do potatoes hate the most? Fry-day',\n",
       " 'Q: What did one tomato say to the other? A: Catch up.',\n",
       " 'How many Redditors does it take to smother a joke? 6,330,525 or so...',\n",
       " \"Judge: I order you to pay $10,000 Mr. Demeanour: Why?  Judge: Misdemeanor.   Mr. Demeanour: What'd she do this time?!\",\n",
       " 'Why do Mexicans have a secret cheese stash? In queso emergency.',\n",
       " \"Why go to the paint store when you're on a diet? You can get thinner there.\",\n",
       " 'Jack: What is your name? Ass:Ass. Jack:Ass? Ass:Yes. Jack:Yes? Ass:No. Jack:No? Ass:JackAss.',\n",
       " 'When does a pear become a pair? When one appears.',\n",
       " 'What do you someone with no body and no nose? Nobody knows!']"
      ]
     },
     "execution_count": 30,
     "metadata": {},
     "output_type": "execute_result"
    }
   ],
   "source": [
    "selections[:10]"
   ]
  },
  {
   "cell_type": "code",
   "execution_count": 31,
   "id": "492c464f",
   "metadata": {},
   "outputs": [],
   "source": [
    "l1 = [\n",
    "    {\n",
    "  \"1\": [\"joke\", \"good\"],\n",
    "  \"2\": [\"potatoes\", \"hate\", \"Fry\"],\n",
    "  \"3\": [\"tomato\", \"say\", \"Catch\"],\n",
    "  \"4\": [\"Redditors\", \"take\", \"smother\", \"joke\"],\n",
    "  \"5\": [\"order\", \"pay\", \"Misdemeanor\"],\n",
    "  \"6\": [\"cheese\", \"secret\", \"Mexicans\", \"emergency\"],\n",
    "  \"7\": [\"paint\", \"diet\", \"store\", \"thinner\"],\n",
    "  \"8\": [\"name\", \"Jack\", \"Ass\", \"Yes\", \"No\", \"JackAss\"],\n",
    "  \"9\": [\"pear\", \"pair\", \"appears\"],\n",
    "  \"10\": [\"body\", \"knows\"]\n",
    "},\n",
    "    {\n",
    "  \"11\": [\"drums\", \"ska\", \"band\", \"good\", \"knows\"],\n",
    "  \"12\": [\"women\", \"white\", \"wedding\", \"dishwasher\", \"stove\"],\n",
    "  \"13\": [\"unique\", \"rabbit\"],\n",
    "  \"14\": [\"batteries\", \"water\", \"Watt\"],\n",
    "  \"15\": [\"dad\", \"abusive\", \"Beats\"],\n",
    "  \"16\": [\"K\"],\n",
    "  \"17\": [\"Lion\", \"Rhino\", \"LEGS\"],\n",
    "  \"18\": [\"chromosomes\", \"Genes\"],\n",
    "  \"19\": [\"date\"],\n",
    "  \"20\": [\"Moses\", \"tea\", \"Hebrews\"],\n",
    "  \"21\": [\"Jedi\", \"custody\", \"Force\"],\n",
    "  \"22\": [\"divorces\", \"cost\", \"worth\"],\n",
    "  \"23\": [\"WANT\", \"CURE\", \"TOURETTE\", \"CUNT\"],\n",
    "  \"24\": [\"Germans\", \"Birkenstocks\", \"Birkensocks\"],\n",
    "  \"25\": [\"words\", \"ego\", \"man\", \"in\"]\n",
    "},\n",
    "    {\n",
    "  \"26\": [\"Tennessee\", \"same\", \"Arkansas\"],\n",
    "  \"27\": [\"decipher\", \"E\", \"D\", \"O\", \"W\", \"N\"],\n",
    "  \"28\": [\"again\"],\n",
    "  \"29\": [\"unique\", \"good\", \"period\"],\n",
    "  \"30\": [\"Buddha\", \"Namaste\"],\n",
    "  \"31\": [\"executioner\", \"head\", \"Saudi\", \"removed\"],\n",
    "  \"32\": [\"birds\", \"invest\", \"stork\"],\n",
    "  \"33\": [\"sodium\", \"hypobromite\", \"NaBrO\"],\n",
    "  \"34\": [\"computers\", \"eat\", \"Chips\"],\n",
    "  \"35\": [\"DILP\", \"Bro\", \"Dog\", \"Pet\"],\n",
    "  \"36\": [\"want\", \"time\", \"machine\", \"matter\"],\n",
    "  \"37\": [\"joke\", \"bird\", \"hawkward\"],\n",
    "  \"38\": [\"Arthur\", \"Joker\", \"Joaquin\", \"road\"],\n",
    "  \"39\": [\"meanest\", \"thing\", \"average\"],\n",
    "  \"40\": [\"Chinese\", \"American\"]\n",
    "},\n",
    "    {\n",
    "  \"41\": [\"corn\", \"corner\"],\n",
    "  \"42\": [\"education\", \"smarter\"],\n",
    "  \"43\": [\"RETARD\", \"FUCKHEAD\", \"AMERICAN\", \"GET\"],\n",
    "  \"44\": [\"Rabbi\", \"tea\", \"Hebrews\", \"making\"],\n",
    "  \"45\": [\"rabbit\", \"tame\", \"unique\", \"catch\"],\n",
    "  \"46\": [\"Tree\"],\n",
    "  \"47\": [\"Egyptian\", \"Air\"],\n",
    "  \"48\": [\"hippo\", \"tree\", \"hiding\", \"good\"],\n",
    "  \"49\": [\"drugs\", \"trip\", \"advisor\"],\n",
    "  \"50\": [\"match\", \"tin\"],\n",
    "  \"51\": [\"Mozart\", \"Decomposing\", \"doing\"],\n",
    "  \"52\": [\"mars\", \"Curiosity\"],\n",
    "  \"53\": [\"π\", \"rad\"],\n",
    "  \"54\": [\"Irish\", \"outside\", \"Paddy\", \"summertime\"],\n",
    "  \"55\": [\"joke\", \"account\"]\n",
    "},\n",
    "    {\n",
    "  \"56\": [\"Jamaican\", \"ethnicity\", \"question\", \"Ja\"],\n",
    "  \"57\": [\"bus\", \"stop\", \"zebra crossing\"],\n",
    "  \"58\": [\"Indian\", \"physicist\", \"Curry\"],\n",
    "  \"59\": [\"stoner\", \"mermaid\", \"Seaweed\"],\n",
    "  \"60\": [\"ocean\", \"rabbit\", \"C\"],\n",
    "  \"61\": [\"average\", \"better\", \"beverage\"],\n",
    "  \"62\": [\"sushi\", \"pan\", \"Japan\"],\n",
    "  \"63\": [\"erection\", \"Chinese\", \"go\", \"vote\", \"have\"],\n",
    "  \"64\": [\"road\", \"Priest\", \"crosses\"],\n",
    "  \"65\": [\"Coworker\", \"Kidnap\", \"Karen\", \"pretty\", \"book\"],\n",
    "  \"66\": [\"Fox\", \"truth\", \"out\"],\n",
    "  \"67\": [\"French\", \"make\", \"Oui\"],\n",
    "  \"68\": [\"Canadian\", \"Jawas\", \"Poutini\"],\n",
    "  \"69\": [\"mom\", \"turkey\", \"Thanksgiving\"],\n",
    "  \"70\": [\"cross\", \"Jew\", \"Christianity\"]\n",
    "},\n",
    "    {\n",
    "  \"71\": [\"Morse\", \"toad\", \"dot\", \"croak\"],\n",
    "  \"72\": [\"teeth\", \"Christmas\", \"cake\", \"put\"],\n",
    "  \"73\": [\"Energizer\", \"bunny\", \"batteries\", \"coming\"],\n",
    "  \"74\": [\"otter\", \"road\", \"cross\", \"side\"],\n",
    "  \"75\": [\"pizza\", \"cheesy\", \"joke\", \"too\"],\n",
    "  \"76\": [\"Caps\", \"Lock\", \"SHIFT\", \"keyboard\", \"press\", \"HOLD\", \"BETTER\"],\n",
    "  \"77\": [\"zombie\", \"math\", \"no\", \"brainer\"],\n",
    "  \"78\": [\"trees\", \"money\", \"branch\"],\n",
    "  \"79\": [\"Laurence\", \"High\", \"Roman\", \"Larrius\"],\n",
    "  \"80\": [\"ex\", \"attractive\", \"break\", \"Partner\"],\n",
    "  \"81\": [\"detectives\", \"drink\", \"Search\", \"Bar\"],\n",
    "  \"82\": [\"sock\", \"broke\", \"toed\"],\n",
    "  \"83\": [\"women\", \"babies\", \"hurts\"],\n",
    "  \"84\": [\"Hearing\", \"aids\", \"want\"],\n",
    "  \"85\": [\"zombie\", \"vegan\", \"GRAAAAINS\"]\n",
    "},\n",
    "    {\n",
    "  \"86\": [\"Demi\", \"Last\", \"Hit\", \"Heroin\"],\n",
    "  \"87\": [\"Banksy\", \"TMNT\", \"Shredder\"],\n",
    "  \"88\": [\"Barbie\", \"pregnant\", \"Ken\", \"box\"],\n",
    "  \"89\": [\"bike\", \"stand\", \"tired\"],\n",
    "  \"90\": [\"okay\", \"meet\", \"Annie\"],\n",
    "  \"91\": [\"encourage\", \"bear\", \"cheese\"],\n",
    "  \"92\": [\"paaannts\"],\n",
    "  \"93\": [\"pessimists\", \"testing\", \"positives\"],\n",
    "  \"94\": [\"miss\", \"trees\", \"Pine\"],\n",
    "  \"95\": [\"Pikachu\", \"bus\", \"Poke\"],\n",
    "  \"96\": [\"anti-vaxxers\", \"kids\", \"common\", \"dying\"],\n",
    "  \"97\": [\"diarrhea\", \"genes\"],\n",
    "  \"98\": [\"keyboard\", \"whispering\", \"sensitive\"],\n",
    "  \"99\": [\"Son\", \"neck\", \"tie\", \"dad\"],\n",
    "  \"100\": [\"mind\", \"jumping\", \"death\", \"spine\"]\n",
    "}\n",
    "\n",
    "]"
   ]
  },
  {
   "cell_type": "code",
   "execution_count": 32,
   "id": "cb7a4566",
   "metadata": {},
   "outputs": [],
   "source": [
    "fl = []\n",
    "for d in l1:\n",
    "    for k in d:\n",
    "        fl.append(d[k])"
   ]
  },
  {
   "cell_type": "code",
   "execution_count": 33,
   "id": "89cbaa6f",
   "metadata": {},
   "outputs": [],
   "source": [
    "import pickle"
   ]
  },
  {
   "cell_type": "code",
   "execution_count": 34,
   "id": "d94d766c",
   "metadata": {},
   "outputs": [],
   "source": [
    "with open(\"gpt4-selected-words.pkl\",\"wb\") as f:\n",
    "    pickle.dump(fl, f)"
   ]
  },
  {
   "cell_type": "code",
   "execution_count": 35,
   "id": "6729deab",
   "metadata": {},
   "outputs": [],
   "source": [
    "with open(\"masking_sample_set_2.pkl\",\"wb\") as f:\n",
    "    pickle.dump(selections, f)"
   ]
  },
  {
   "cell_type": "markdown",
   "id": "c11c1f7b",
   "metadata": {},
   "source": [
    "# Dependency Analysis "
   ]
  },
  {
   "cell_type": "code",
   "execution_count": 4,
   "id": "936d8b23",
   "metadata": {},
   "outputs": [],
   "source": [
    "from spacy.matcher import Matcher\n",
    "import spacy\n",
    "import spacy_transformers\n",
    "import pickle"
   ]
  },
  {
   "cell_type": "code",
   "execution_count": 5,
   "id": "56fee564",
   "metadata": {},
   "outputs": [],
   "source": [
    "with open(\"masking_sample_set.pkl\",\"rb\") as f:\n",
    "    samples = pickle.load(f)"
   ]
  },
  {
   "cell_type": "code",
   "execution_count": 6,
   "id": "d52ccb55",
   "metadata": {},
   "outputs": [
    {
     "data": {
      "text/plain": [
       "['Wanna hear a good joke? You.',\n",
       " 'What day do potatoes hate the most? Fry-day',\n",
       " 'Q: What did one tomato say to the other? A: Catch up.',\n",
       " 'How many Redditors does it take to smother a joke? 6,330,525 or so...',\n",
       " \"Judge: I order you to pay $10,000 Mr. Demeanour: Why?  Judge: Misdemeanor.   Mr. Demeanour: What'd she do this time?!\"]"
      ]
     },
     "execution_count": 6,
     "metadata": {},
     "output_type": "execute_result"
    }
   ],
   "source": [
    "samples[:5]"
   ]
  },
  {
   "cell_type": "code",
   "execution_count": 2,
   "id": "aa07747e",
   "metadata": {},
   "outputs": [],
   "source": [
    "nlp = spacy.load(\"en_core_web_trf\")"
   ]
  },
  {
   "cell_type": "code",
   "execution_count": 12,
   "id": "27445e65",
   "metadata": {},
   "outputs": [],
   "source": [
    "doc = nlp('Wanna hear a good joke? You.')\n",
    "processed = nlp(doc)"
   ]
  },
  {
   "cell_type": "code",
   "execution_count": 13,
   "id": "bf639c8c",
   "metadata": {},
   "outputs": [
    {
     "name": "stdout",
     "output_type": "stream",
     "text": [
      "aux\n",
      "ROOT\n",
      "det\n",
      "amod\n",
      "dobj\n",
      "punct\n",
      "ROOT\n",
      "punct\n"
     ]
    }
   ],
   "source": [
    "for token in doc:\n",
    "    print(token.dep_)"
   ]
  },
  {
   "cell_type": "code",
   "execution_count": null,
   "id": "323c74f1",
   "metadata": {},
   "outputs": [],
   "source": []
  }
 ],
 "metadata": {
  "kernelspec": {
   "display_name": "conda env",
   "language": "python",
   "name": "env"
  },
  "language_info": {
   "codemirror_mode": {
    "name": "ipython",
    "version": 3
   },
   "file_extension": ".py",
   "mimetype": "text/x-python",
   "name": "python",
   "nbconvert_exporter": "python",
   "pygments_lexer": "ipython3",
   "version": "3.11.6"
  }
 },
 "nbformat": 4,
 "nbformat_minor": 5
}
