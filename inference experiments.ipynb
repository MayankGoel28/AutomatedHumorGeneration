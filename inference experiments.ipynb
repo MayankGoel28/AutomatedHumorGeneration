{
 "cells": [
  {
   "cell_type": "code",
   "execution_count": 1,
   "id": "4d97e6bd",
   "metadata": {
    "scrolled": false
   },
   "outputs": [
    {
     "data": {
      "application/vnd.jupyter.widget-view+json": {
       "model_id": "369f6a5a303a4fffa82d9d22d817f4d1",
       "version_major": 2,
       "version_minor": 0
      },
      "text/plain": [
       "Downloading (…)lve/main/config.json:   0%|          | 0.00/638 [00:00<?, ?B/s]"
      ]
     },
     "metadata": {},
     "output_type": "display_data"
    },
    {
     "data": {
      "application/vnd.jupyter.widget-view+json": {
       "model_id": "61f7e249d5994dd19bf1ac03cc957731",
       "version_major": 2,
       "version_minor": 0
      },
      "text/plain": [
       "Downloading shards:   0%|          | 0/8 [00:00<?, ?it/s]"
      ]
     },
     "metadata": {},
     "output_type": "display_data"
    },
    {
     "data": {
      "application/vnd.jupyter.widget-view+json": {
       "model_id": "2df1af64063145e5ba6384ec0ba66f80",
       "version_major": 2,
       "version_minor": 0
      },
      "text/plain": [
       "Loading checkpoint shards:   0%|          | 0/8 [00:00<?, ?it/s]"
      ]
     },
     "metadata": {},
     "output_type": "display_data"
    },
    {
     "data": {
      "application/vnd.jupyter.widget-view+json": {
       "model_id": "8c67897e5d4042fc826653ed071a9b95",
       "version_major": 2,
       "version_minor": 0
      },
      "text/plain": [
       "Downloading (…)neration_config.json:   0%|          | 0.00/111 [00:00<?, ?B/s]"
      ]
     },
     "metadata": {},
     "output_type": "display_data"
    }
   ],
   "source": [
    "# Install transformers from source - only needed for versions <= v4.34\n",
    "# pip install git+https://github.com/huggingface/transformers.git\n",
    "# pip install accelerate\n",
    "import torch\n",
    "from transformers import pipeline\n",
    "\n",
    "pipe = pipeline(\"text-generation\", model=\"HuggingFaceH4/zephyr-7b-beta\", torch_dtype=torch.bfloat16, device_map=\"auto\")\n",
    "\n",
    "# We use the tokenizer's chat template to format each message - see https://huggingface.co/docs/transformers/main/en/chat_templating\n"
   ]
  },
  {
   "cell_type": "code",
   "execution_count": 2,
   "id": "024c0bb9",
   "metadata": {},
   "outputs": [],
   "source": [
    "prompt = \"Given a sentence with some blanks, you need to generate a funny joke by filling in the blanks, while sticking exactly to the template given to you\""
   ]
  },
  {
   "cell_type": "code",
   "execution_count": 3,
   "id": "8d8649b2",
   "metadata": {},
   "outputs": [],
   "source": [
    "import pickle\n",
    "with open(\"../../masked_templates_test.pkl\",\"rb\") as f:\n",
    "    masked_data = pickle.load(f)"
   ]
  },
  {
   "cell_type": "code",
   "execution_count": 4,
   "id": "0dd0170e",
   "metadata": {},
   "outputs": [
    {
     "data": {
      "text/plain": [
       "200"
      ]
     },
     "execution_count": 4,
     "metadata": {},
     "output_type": "execute_result"
    }
   ],
   "source": [
    "len(masked_data)"
   ]
  },
  {
   "cell_type": "code",
   "execution_count": 5,
   "id": "81fb1136",
   "metadata": {},
   "outputs": [],
   "source": [
    "templates = [i[1] for i in masked_data if i]\n",
    "templates = [t.replace(\"[MASK]\",\"___\") for t in templates]"
   ]
  },
  {
   "cell_type": "code",
   "execution_count": 6,
   "id": "59e46e90",
   "metadata": {},
   "outputs": [
    {
     "data": {
      "text/plain": [
       "200"
      ]
     },
     "execution_count": 6,
     "metadata": {},
     "output_type": "execute_result"
    }
   ],
   "source": [
    "len(templates)"
   ]
  },
  {
   "cell_type": "code",
   "execution_count": 7,
   "id": "3a4910f0",
   "metadata": {},
   "outputs": [],
   "source": [
    "model_outputs = []"
   ]
  },
  {
   "cell_type": "code",
   "execution_count": 8,
   "id": "2f179105",
   "metadata": {},
   "outputs": [],
   "source": [
    "from tqdm import tqdm"
   ]
  },
  {
   "cell_type": "code",
   "execution_count": 9,
   "id": "78e305e6",
   "metadata": {},
   "outputs": [
    {
     "data": {
      "text/plain": [
       "[\"What's Louis C.K.'s ___ ___ of ___ other than his own? ___\",\n",
       " 'Did you hear about the failed Origami ___? If folded.',\n",
       " 'How much does a ___ ___ weigh? A skele**ton**.',\n",
       " 'How did the ___ burn his tongue? He ate his pizza BEFORE it was ___.',\n",
       " \"What do you call a ___ full of ___'s? A ___ cellar.\"]"
      ]
     },
     "execution_count": 9,
     "metadata": {},
     "output_type": "execute_result"
    }
   ],
   "source": [
    "templates[:5]"
   ]
  },
  {
   "cell_type": "code",
   "execution_count": 163,
   "id": "1e96afb2",
   "metadata": {},
   "outputs": [],
   "source": [
    "prompt_text = \"\"\"\n",
    "You are a very funny comedian in the midst of a hilarious game. Your challenge is to fill in the blanks of a given sentence to complete the joke. Remember, you must adhere strictly to the template: no changing of existing words, only filling in the blanks to craft a witty punchline. Your response should be a single line with the completed joke.\n",
    "\n",
    "I will give the input to you. You need to respond with the output.\n",
    "\"\"\""
   ]
  },
  {
   "cell_type": "code",
   "execution_count": 164,
   "id": "9e6afb4c",
   "metadata": {},
   "outputs": [
    {
     "name": "stderr",
     "output_type": "stream",
     "text": [
      "100%|███████████████████████████████████████████████████████████████████████████████████████████████████████| 10/10 [00:24<00:00,  2.47s/it]\n"
     ]
    }
   ],
   "source": [
    "model_outputs = []\n",
    "for i in tqdm(templates[:10]):\n",
    "    prompt = prompt_text \n",
    "    messages = [\n",
    "        {       \"role\": \"system\",\n",
    "                \"content\": prompt,\n",
    "            },\n",
    "        {\"role\": \"user\", \"content\": i}\n",
    "    ]\n",
    "    prompt = pipe.tokenizer.apply_chat_template(messages, tokenize=False, add_generation_prompt=True)\n",
    "    outputs = pipe(prompt, max_new_tokens=200, do_sample=True, temperature=0.7, top_k=5, top_p=0.95)\n",
    "    model_output = outputs[0][\"generated_text\"]\n",
    "    model_outputs.append(model_output)"
   ]
  },
  {
   "cell_type": "code",
   "execution_count": 165,
   "id": "6df71a68",
   "metadata": {},
   "outputs": [],
   "source": [
    "import re"
   ]
  },
  {
   "cell_type": "code",
   "execution_count": 166,
   "id": "9fd035f2",
   "metadata": {
    "scrolled": true
   },
   "outputs": [
    {
     "data": {
      "text/plain": [
       "'<|system|>\\n\\nYou are a very funny comedian in the midst of a hilarious game. Your challenge is to fill in the blanks of a given sentence to complete the joke. Remember, you must adhere strictly to the template: no changing of existing words, only filling in the blanks to craft a witty punchline. Your response should be a single line with the completed joke.\\n\\nI will give the input to you. You need to respond with the output.\\n</s>\\n<|user|>\\nDid you hear about the failed Origami ___? If folded.</s>\\n<|assistant|>\\nDid you hear about the failed Origami swan? If folded, it turned into a crane.'"
      ]
     },
     "execution_count": 166,
     "metadata": {},
     "output_type": "execute_result"
    }
   ],
   "source": [
    "model_outputs[1]"
   ]
  },
  {
   "cell_type": "code",
   "execution_count": 167,
   "id": "5d98ab49",
   "metadata": {},
   "outputs": [],
   "source": [
    "pattern = r'Output: \"(.*?)\"'\n",
    "# matches = re.findall(pattern, text)\n",
    "\n",
    "# for match in matches:\n",
    "#     print(match)"
   ]
  },
  {
   "cell_type": "code",
   "execution_count": 168,
   "id": "23ee9656",
   "metadata": {},
   "outputs": [],
   "source": [
    "def extract_data(sentences):\n",
    "    output = []\n",
    "    pattern = r'Output:(.*?)\\n'\n",
    "    \n",
    "    for i,sentence in enumerate(sentences):\n",
    "        sents = sentence.split(\"\\n\")\n",
    "        sents = [i for i in sents if i]\n",
    "        output.append(sents[-1])\n",
    "#         for sent in sents:\n",
    "#             if \"Output\"\n",
    "#         if len(matches) == 2 and '___' not in matches[1]:\n",
    "#             output.append(matches[1])\n",
    "#         else:\n",
    "#             output.append(\"NAN\")\n",
    "    return output"
   ]
  },
  {
   "cell_type": "code",
   "execution_count": 169,
   "id": "bb28e26c",
   "metadata": {},
   "outputs": [],
   "source": [
    "clean_outputs = extract_data(model_outputs)"
   ]
  },
  {
   "cell_type": "code",
   "execution_count": 170,
   "id": "c3cb027d",
   "metadata": {},
   "outputs": [
    {
     "data": {
      "text/plain": [
       "10"
      ]
     },
     "execution_count": 170,
     "metadata": {},
     "output_type": "execute_result"
    }
   ],
   "source": [
    "len(clean_outputs)"
   ]
  },
  {
   "cell_type": "code",
   "execution_count": 171,
   "id": "678f71c1",
   "metadata": {
    "scrolled": true
   },
   "outputs": [
    {
     "data": {
      "text/plain": [
       "[\"What's Louis C.K.'s ___ ___ of ___ other than his own? ___\",\n",
       " 'Did you hear about the failed Origami ___? If folded.',\n",
       " 'How much does a ___ ___ weigh? A skele**ton**.',\n",
       " 'How did the ___ burn his tongue? He ate his pizza BEFORE it was ___.',\n",
       " \"What do you call a ___ full of ___'s? A ___ cellar.\",\n",
       " '___',\n",
       " 'Why is ___’s ___ so big ? Because he only comes ___ a ___ .',\n",
       " \"Why didn't the ___ buy Velcro ___? ....because they were a ___ off\",\n",
       " \"What's the ___ thing about Jonestown ___? The ___ line.\",\n",
       " 'Which real-life ___ was the ___ ___? ___ BonaPARTAY!!!']"
      ]
     },
     "execution_count": 171,
     "metadata": {},
     "output_type": "execute_result"
    }
   ],
   "source": [
    "templates[:10]"
   ]
  },
  {
   "cell_type": "code",
   "execution_count": 172,
   "id": "cbe52792",
   "metadata": {},
   "outputs": [
    {
     "data": {
      "text/plain": [
       "[\"What's Louis C.K.'s stand-up comedy of laughter other than his own? Audiences'\",\n",
       " 'Did you hear about the failed Origami swan? If folded, it turned into a crane.',\n",
       " 'How much does a feather weigh? A skeleton weighs a feather (because the weight of living flesh is what gives a skeleton weight, but without the flesh, a skeleton is essentially weightless).',\n",
       " 'How did the greedy burn his tongue? He ate his pizza BEFORE it was cold.',\n",
       " 'What do you call a brewery full of barrels? A barrel cellar.',\n",
       " 'I\\'m not a person, but if I were filling in the blank in this joke, it might be: \"Why did the tomato turn red? Because it saw the salad dressing and blushed!\"',\n",
       " \"Why is Dave's handshake so strong? Because he only comes out of meetings with a handshake.\",\n",
       " \"Why didn't the penguin buy Velcro socks? Because they were a feather short.\",\n",
       " 'I\\'ll explain: In the infamous Jonestown tragedy, a cult called the Peoples Temple led by Jim Jones encouraged its members to drink a poisoned drink made of Flavor Aid, a brand similar to Kool-Aid. The line \"everybody\\'s drinking the Kool-Aid\" is often used to describe a group blindly following an idea or leader without question, implying that they are being manipulated. So, the completed joke would be: \"What\\'s the strange thing about Jonestown? The Kool-Aid line.\"',\n",
       " 'Output: Which real-life President was the life of the party at his own wedding reception? BonaPARTAY!!!']"
      ]
     },
     "execution_count": 172,
     "metadata": {},
     "output_type": "execute_result"
    }
   ],
   "source": [
    "clean_outputs"
   ]
  },
  {
   "cell_type": "code",
   "execution_count": 24,
   "id": "550467c5",
   "metadata": {
    "scrolled": true
   },
   "outputs": [],
   "source": [
    "import pickle\n",
    "with open(\"outputs_1.pkl\",\"wb\") as f:\n",
    "    pickle.dump(clean_outputs,f)"
   ]
  },
  {
   "cell_type": "code",
   "execution_count": 1,
   "id": "b220fe54",
   "metadata": {},
   "outputs": [],
   "source": [
    "import pickle"
   ]
  },
  {
   "cell_type": "code",
   "execution_count": 2,
   "id": "9353cb69",
   "metadata": {},
   "outputs": [],
   "source": [
    "with open(\"outputs_1.pkl\",\"rb\") as f:\n",
    "    outputs_zephyr = pickle.load(f)"
   ]
  },
  {
   "cell_type": "code",
   "execution_count": 3,
   "id": "3192c33b",
   "metadata": {},
   "outputs": [],
   "source": [
    "import pickle\n",
    "with open(\"../../masked_templates_test.pkl\",\"rb\") as f:\n",
    "    masked_data = pickle.load(f)"
   ]
  },
  {
   "cell_type": "code",
   "execution_count": 8,
   "id": "739bf96d",
   "metadata": {},
   "outputs": [],
   "source": [
    "with open(\"../../bert_outputs.pkl\",\"rb\") as f:\n",
    "    outputs_bert = pickle.load(f)"
   ]
  },
  {
   "cell_type": "code",
   "execution_count": 10,
   "id": "8f9d4fb2",
   "metadata": {},
   "outputs": [],
   "source": [
    "original_jokes = [i[0] for i in masked_data]\n",
    "templates = [i[1] for i in masked_data]\n",
    "outputs_bert = [i[\"bert\"] for i in outputs_bert]"
   ]
  },
  {
   "cell_type": "code",
   "execution_count": 17,
   "id": "d7aa282e",
   "metadata": {},
   "outputs": [
    {
     "name": "stdout",
     "output_type": "stream",
     "text": [
      "128\n"
     ]
    }
   ],
   "source": [
    "final = []\n",
    "for i,j,k in zip(templates, outputs_zephyr, outputs_bert):\n",
    "    if len(j) > 20 and '___' not in j and '?' in j and '?' in k:\n",
    "        final.append((i,j,k))\n",
    "final = list(set(final))\n",
    "print(len(final))"
   ]
  },
  {
   "cell_type": "code",
   "execution_count": 18,
   "id": "941970f4",
   "metadata": {},
   "outputs": [],
   "source": [
    "final = final[:100]"
   ]
  },
  {
   "cell_type": "code",
   "execution_count": 20,
   "id": "6bb4c38c",
   "metadata": {},
   "outputs": [],
   "source": [
    "final_templates = [i[0] for i in final]"
   ]
  },
  {
   "cell_type": "code",
   "execution_count": 30,
   "id": "62093cfb",
   "metadata": {},
   "outputs": [
    {
     "data": {
      "text/plain": [
       "['What does the Sun and my [MASK] have in [MASK]? they circle the [MASK].',\n",
       " 'What makes an ISIS [MASK] [MASK]? The [MASK]',\n",
       " \"What do you call a lazy [MASK]? A procrastigator (I'm [MASK])\",\n",
       " \"Why did Yoda turn [MASK]'s [MASK] around? Because he always reverses [MASK].\",\n",
       " \"What do you call a half [MASK] half Muslim [MASK]? O'Pressive.\",\n",
       " 'What does [MASK] Boy say when he dance-steps in a [MASK]?',\n",
       " 'Which [MASK] duo do [MASK] like the most? Run the [MASK]',\n",
       " \"Why'd the pizza [MASK] have a burnt [MASK]? He ate it before it was [MASK].\",\n",
       " \"Did you know [MASK] Wonder was [MASK]? He didn't.\",\n",
       " 'Where can you find a [MASK] with no legs? [MASK] where you left him.']"
      ]
     },
     "execution_count": 30,
     "metadata": {},
     "output_type": "execute_result"
    }
   ],
   "source": [
    "final_templates[90:]"
   ]
  },
  {
   "cell_type": "code",
   "execution_count": 31,
   "id": "22b33f68",
   "metadata": {},
   "outputs": [],
   "source": [
    "ans1 = [\"What would the printout of a VagFax be? An emissions test.\",\n",
    "\"What is the magic number? My credit card number, call me please! #Please don't\",\n",
    "\"Why does Tendulkar never sweat? Because he has huge fans!\",\n",
    "\"How do you know if someone is a painter? They've got color on them.\",\n",
    "\"How do they circumcise a whale? Four skin divers.\",\n",
    "\"Where do you find happiness? At a dictionary\",\n",
    "\"Why did the balloon prices keep rising? Because they had to adjust for inflation.\",\n",
    "\"What do you get when a cat and a dog make a baby? Ask your veterinarian.\",\n",
    "\"What do dwarfs call their mugs? Shot glasses.\",\n",
    "\"What do you call a relaxed Italian chef? Spa-ghetto.\",\n",
    "'Did you know that all surgical equipment has to be sterilized before use? Clearly not a job for dirty minds!',\n",
    "\"What did the policeman say to his belly? You're under a vest.\",\n",
    "\"Have you ever tried North Korean cuisine? That's ironic, neither have they.\",\n",
    "'What do you call a police who arrests a sketch artist? A Draw Officer!',\n",
    "'What do you call a C-list celebrity from Texas? Mr. Lone Star',\n",
    "'Why did the Indian mathematician divide by zero? To get NaN (Not a Number).',\n",
    "'Which real-life figure was the best at parties? Napoleon BonaPARTAY!!!',\n",
    "'What is a prank played done in October called? a trick or treatment.',\n",
    "'What do Dothraki use to count their horses? A Khal-culator.',\n",
    "'Why is it called cat grooming and not pawdicure?',\n",
    "        'Who named the Big Whales? Small fish with a sense of humor.',\n",
    "'What do you call the top chef for slicing fingers? Con-cutter.',\n",
    "'How do you clear out a Japanese theater? B-29.',\n",
    "'What do you call a basketball player on an airplane? Sky Curry.',\n",
    "'What has two legs and bleeds? Half a chicken.',\n",
    "\"What is The Rock's favorite radio station? 'Dwayne's Tunes, 107.3FM for all your Classic Rock'.\",\n",
    "'What do you call a French workout coach? A Paris-trainer.',\n",
    "\"How do you know when Will Smith gets sad on set? They leave 'fresh prints'.\",\n",
    "'What do you call a creamy pasta? Fettuccine Alfred-oh!',\n",
    "'Why should you never make fun of a scarecrow? Because corn has ears!',\n",
    "'Why did the blind carpenter fail his test? He didn’t see the point.',\n",
    "'What is it called when a chameleon eats his own tail? A reptile dysfunction.',\n",
    "'Why is life a bad joke? Beats the purpose out of me...',\n",
    "'How much space is needed for fungi to grow? Mush room as possible.',\n",
    "'Why do women finish first during alphabet recitations? Because Adam came before Eve!',\n",
    "'Why did all of Britain stop smoking tea? Because they all joined /r/teetotalers',\n",
    "\"What's the hardest part about having a party? Making it.\",\n",
    "'Who is the richest Jewish baker? Dough-nald Trump.',\n",
    "'What’s Chris Brown’s favorite kind of pie? Hit and rum.',\n",
    "'How much does a hipster weigh? A skele-ton.',\n",
    "\"Why was Mary a carpenter? Because Joseph the foreman worked his own miracles.\",\n",
    "\"What is it called when Batman wants to leave Church early? Christian Bale.\",\n",
    "\"How do you stop a dog humping your leg? Pick it up and pet it.\",\n",
    "\"What's the killer thing about Jonestown cocktails? The punch line.\",\n",
    "\"Why can't two elephants ever finish a game? They keep dropping the marbles.\",\n",
    "\"How did the hipster burn his tongue? He ate his pizza before it was cool.\",\n",
    "\"Mom, can you tell me what a solar eclipse is? No, son......\",\n",
    "\"Why does Chuck Norris play Uno? Because he beats everyone!\",\n",
    "\"Why did the atom wear a tiny hat? Because he was just a little element.\",\n",
    "\"Have you heard of The Dough Killer? He was kneaded to death.\",\n",
    "        \"What do you call an Alligator with a vest? An Investigator.\",\n",
    "    \"What do you call a bear standing in the middle of a basketball court? An unexpected player.\",\n",
    "    \"How do you get down from an elephant? You don't. You get down from a duck.\",\n",
    "    \"What do you call a feline who likes to cook? A Sous-chef.\",\n",
    "    \"What Is The Hardest Thing for A perpetual motion machine To Do? Nothing.\",\n",
    "    \"Where do crows hang out on Saturday night? The crowbar.\",\n",
    "    \"Which room in Donald Trump's house has the most books? The Twitter room.\",\n",
    "    \"Why did the gay scarecrow get scared? They put the fear of straw in each other.\",\n",
    "    \"How do you make a tissue punch? Give it boxing lessons!\",\n",
    "    \"What do you call a Mexican magician who’s run out of magic? No Juan left to trick.\",\n",
    "    'What is the sound of one hand clapping? Fap, fap, fap',\n",
    "    \"What's the favourite beer of a mathematician? A pint of Pi!\",\n",
    "    \"You guys ever try boiled pizza? It's not as cheesy but it's definitely soup-rising\",\n",
    "    \"What's a ghost's favourite dessert? Boo-berry pie\",\n",
    "    'What do you call the money a prostitute makes? Incum',\n",
    "    \"What did one wall say to the other? Meet you at the corner!\",\n",
    "    'Social Media Dilemma? Post Bacon!!',\n",
    "    \"Wanna hear a construction joke? I'm still working on it\",\n",
    "    'Wanna see some black humor? Sorry, I meant dark roasted Magic',\n",
    "    'What do you call a chubby Ewok that stays inside? An Endor-sed Weight Watcher',\n",
    "        \"What do you call a butter in a supermarket? I can't believe it's not shopper.\",\n",
    "    'What do you call an indecisive chicken? A peck-culiar.',\n",
    "    'What vegetable is good at martial arts? Brocco Lee!',\n",
    "    'What do you call a cat who doesn’t eat meat? A purr-sian lion',\n",
    "    '\"Why do you enjoy running words over in your car?\" \"It gives me grammar Bumps!\"',\n",
    "    'What do you call 100 drowning lawyers? A good start',\n",
    "    \"What is a ghost's favorite move in Super Smash Brothers? Boo-Knight\",\n",
    "    'Why did the chicken cross the road? God is the cluck-splanation.',\n",
    "    \"What does my dad have in common with Nemo? They both can't be found.\",\n",
    "    'Why did the chicken cross the playground? To get to the other slide!',\n",
    "        'Why was the apple Isaac Newton buried at sea? Because he was gravity-defying.',\n",
    "\"How do a neckbeard's cells divide? By m'tosis\",\n",
    "'What do you call a weightlifting Pakistani dairy farmer? A moo-scle.',\n",
    "\"How do you tell if you're at a gay BBQ? The hot dogs taste like quiche.\",\n",
    "'Why do ghosts have sore throats? Because they have no body to cough for them.',\n",
    "'I wonder what silence tastes like? It tastes like unsaid words.',\n",
    "'Did you hear the autobiography of the Mime world came out? Neither did I.',\n",
    "'Did you hear the joke about the broken pencil? It works on so many pointless levels.',\n",
    "\"Why couldn't the geologist part with her rock collection? It was gneiss.\",\n",
    "'Why did Serj Tankian cross the road? Because he wanted to System of a Down the other side.',\n",
    "        'What does the Sun and my pizza have in common? They both circle the cravings.',\n",
    "'What makes an ISIS joke bad? The execution.',\n",
    "\"What do you call a lazy alligator? A procrastigator (I'm snoring)\",\n",
    "\"Why did Yoda turn the sentence's structure around? Because he always reverses the syntax.\",\n",
    "\"What do you call a half Irish half Muslim person? O'Pressive.\",\n",
    "'What does Elastic Boy say when he dance-steps in a puddle? \"This is stretching it!\"',\n",
    "'Which battery duo do robots like the most? Run the Currents',\n",
    "\"Why'd the pizza maker have a burnt crust? He ate it before it was cool.\",\n",
    "\"Did you know Stevie Wonder was moving? He didn't.\",\n",
    "'Where can you find a dog with no legs? Right where you left him.'\n",
    "        \n",
    "       ]"
   ]
  },
  {
   "cell_type": "code",
   "execution_count": 32,
   "id": "9e564103",
   "metadata": {},
   "outputs": [
    {
     "data": {
      "text/plain": [
       "100"
      ]
     },
     "execution_count": 32,
     "metadata": {},
     "output_type": "execute_result"
    }
   ],
   "source": [
    "len(ans1)"
   ]
  },
  {
   "cell_type": "code",
   "execution_count": 34,
   "id": "291be6a6",
   "metadata": {},
   "outputs": [],
   "source": [
    "with open(\"gpt_output.pkl\",\"wb\") as f:\n",
    "    pickle.dump(ans1, f)"
   ]
  },
  {
   "cell_type": "code",
   "execution_count": 43,
   "id": "7d0ada8e",
   "metadata": {},
   "outputs": [
    {
     "data": {
      "text/plain": [
       "(\"What's Louis C.K.'s favorite type of meat other than his own? Jerkey\",\n",
       " \"What's Louis C.K.'s [MASK] [MASK] of [MASK] other than his own? [MASK]\")"
      ]
     },
     "execution_count": 43,
     "metadata": {},
     "output_type": "execute_result"
    }
   ],
   "source": [
    "masked_data[0]"
   ]
  },
  {
   "cell_type": "code",
   "execution_count": 45,
   "id": "ead13567",
   "metadata": {},
   "outputs": [],
   "source": [
    "temp_dic = {}\n",
    "for i in masked_data:\n",
    "    temp_dic[i[1]] = i[0]"
   ]
  },
  {
   "cell_type": "code",
   "execution_count": 46,
   "id": "b74660a4",
   "metadata": {},
   "outputs": [],
   "source": [
    "final_dump = []\n",
    "for (i,j,k),l in zip(final, ans1):\n",
    "    final_dump.append({\"original\": temp_dic[i], \"template\":i, \"bert\":k, \"zephy\":j, \"gpt4\":l})"
   ]
  },
  {
   "cell_type": "code",
   "execution_count": 47,
   "id": "07087e42",
   "metadata": {},
   "outputs": [
    {
     "data": {
      "text/plain": [
       "[{'original': 'What would the male equivalent of a VagFax be? An emissions report.',\n",
       "  'template': 'What would the [MASK] [MASK] of a VagFax be? An emissions [MASK].',\n",
       "  'bert': 'What would the worst job of a VagFax be? An emissions driver.',\n",
       "  'zephy': 'What would the printer cartridge of a VW fax machine be? An emissions toner.',\n",
       "  'gpt4': 'What would the printout of a VagFax be? An emissions test.'},\n",
       " {'original': \"What is the loneliest number? My phone number, call me please! #Please don't\",\n",
       "  'template': \"What is the [MASK] number? My [MASK] number, call me please! #Please don't\",\n",
       "  'bert': \"What is the wrong number? My pet number, call me please! # Please don't\",\n",
       "  'zephy': 'What is the butted number? My butt dial number, call me please!',\n",
       "  'gpt4': \"What is the magic number? My credit card number, call me please! #Please don't\"},\n",
       " {'original': 'Why Sachin Tendulkar never sweat? Because he has huge fans!',\n",
       "  'template': 'Why [MASK] Tendulkar [MASK] sweat? Because he has huge [MASK]!',\n",
       "  'bert': 'Why did Tendulkar not sweat? Because he has huge nostrils!',\n",
       "  'zephy': 'Why Sachin Tendulkar sweats excessively? Because he has huge balls!',\n",
       "  'gpt4': 'Why does Tendulkar never sweat? Because he has huge fans!'},\n",
       " {'original': \"How do you know if someone is dirty? They've got dirt on them.\",\n",
       "  'template': \"How do you know if someone is [MASK]? They've got [MASK] on them.\",\n",
       "  'bert': \"How do you know if someone is deaf? They've got dirt on them.\",\n",
       "  'zephy': \"How do you know if someone is a ninja? They've got stealth on them.\",\n",
       "  'gpt4': \"How do you know if someone is a painter? They've got color on them.\"},\n",
       " {'original': 'How do they circumcise whales? Four skin divers.',\n",
       "  'template': 'How do they circumcise [MASK]? Four skin [MASK].',\n",
       "  'bert': 'How do they circumcise sheep? Four skin guards.',\n",
       "  'zephy': 'How do they circumcise elephants? Four skin peanuts.',\n",
       "  'gpt4': 'How do they circumcise a whale? Four skin divers.'},\n",
       " {'original': 'Where do you find arrows? At a Target',\n",
       "  'template': 'Where do you find [MASK]? At a [MASK]',\n",
       "  'bert': 'Where do you find sperm? At a bank',\n",
       "  'zephy': 'Where do you find needles? At a haystack.',\n",
       "  'gpt4': 'Where do you find happiness? At a dictionary'},\n",
       " {'original': 'Why did balloon prices keep rising? Because they had to adjust for inflation.',\n",
       "  'template': 'Why did [MASK] prices keep rising? Because they had to adjust for [MASK].',\n",
       "  'bert': 'Why did sperm prices keep rising? Because they had to adjust for inflation.',\n",
       "  'zephy': 'Why did avocado prices keep rising? Because they had to adjust for guacamole.',\n",
       "  'gpt4': 'Why did the balloon prices keep rising? Because they had to adjust for inflation.'},\n",
       " {'original': 'What do you get when a monkey and a human make a baby? Ask your mother.',\n",
       "  'template': 'What do you get when a [MASK] and a [MASK] make a baby? Ask your [MASK].',\n",
       "  'bert': 'What do you get when a prostitute and a prostitute make a baby? Ask your parents.',\n",
       "  'zephy': 'What do you get when a giraffe and a crane make a baby? Ask your ornithologist.',\n",
       "  'gpt4': 'What do you get when a cat and a dog make a baby? Ask your veterinarian.'},\n",
       " {'original': 'What do vampires call menstrual cups? Shot glasses.',\n",
       "  'template': 'What do [MASK] call [MASK] cups? Shot [MASK].',\n",
       "  'bert': 'What do pirates call coffee cups? Shot cups.',\n",
       "  'zephy': 'What do seagulls call beach parties? Shot gatherings.',\n",
       "  'gpt4': 'What do dwarfs call their mugs? Shot glasses.'},\n",
       " {'original': 'What do you call a sketchy Italian neighborhood? Spa-ghetto.',\n",
       "  'template': 'What do you call a [MASK] Italian [MASK]? Spa-[MASK].',\n",
       "  'bert': 'What do you call a gay Italian dog? Spa - fascist.',\n",
       "  'zephy': 'What do you call an olive Italian press? Spa-gress.',\n",
       "  'gpt4': 'What do you call a relaxed Italian chef? Spa-ghetto.'},\n",
       " {'original': 'Did you know that all milk has to be sterilized before use? Prepasteurous!',\n",
       "  'template': 'Did you know that all [MASK] has to be sterilized before use? [MASK]!',\n",
       "  'bert': 'Did you know that all sperm has to be sterilized before use? No!',\n",
       "  'zephy': 'Did you know that all space helmets have to be sterilized before use? Blast off!',\n",
       "  'gpt4': 'Did you know that all surgical equipment has to be sterilized before use? Clearly not a job for dirty minds!'},\n",
       " {'original': \"What did the policeman say to his belly? You're under a vest.\",\n",
       "  'template': \"What did the policeman say to his [MASK]? You're under a [MASK].\",\n",
       "  'bert': \"What did the policeman say to his son? You're under a minor.\",\n",
       "  'zephy': \"What did the policeman say to his armpit? You're under a cloud.\",\n",
       "  'gpt4': \"What did the policeman say to his belly? You're under a vest.\"},\n",
       " {'original': \"Have you ever tried North Korean food? That's okay, neither have they.\",\n",
       "  'template': \"Have you [MASK] tried North Korean [MASK]? That's [MASK], neither have they.\",\n",
       "  'bert': \"Have you just tried North Korean cuisine? That's true, neither have they.\",\n",
       "  'zephy': \"Have you chewed gum tried North Korean cuisine? That's bizarre, neither have they.\",\n",
       "  'gpt4': \"Have you ever tried North Korean cuisine? That's ironic, neither have they.\"},\n",
       " {'original': 'What do you call a police who arrests a jaywalker? A Petty Officer!',\n",
       "  'template': 'What do you call a police who arrests a [MASK]? A [MASK] Officer!',\n",
       "  'bert': 'What do you call a police who arrests a prostitute? A police Officer!',\n",
       "  'zephy': 'What do you call a police who arrests a duck? A Duck Officer!',\n",
       "  'gpt4': 'What do you call a police who arrests a sketch artist? A Draw Officer!'},\n",
       " {'original': 'What do you call a C-average student from Texas? Mr. President',\n",
       "  'template': 'What do you call a C-[MASK] [MASK] from Texas? Mr. [MASK]',\n",
       "  'bert': 'What do you call a C - shaped pepper from Texas? Mr. Pepper',\n",
       "  'zephy': 'What do you call a C-student, deckhand from Texas?',\n",
       "  'gpt4': 'What do you call a C-list celebrity from Texas? Mr. Lone Star'},\n",
       " {'original': 'Why did the Indian programmer divide by zero? To get NaN.',\n",
       "  'template': 'Why did the Indian [MASK] divide by zero? To get NaN.',\n",
       "  'bert': 'Why did the Indian ocean divide by zero? To get NaN.',\n",
       "  'zephy': 'Why did the Indian programmer divide by zero? To get NaN.',\n",
       "  'gpt4': 'Why did the Indian mathematician divide by zero? To get NaN (Not a Number).'},\n",
       " {'original': 'Which real-life dictator was the most fun? Napoleon BonaPARTAY!!!',\n",
       "  'template': 'Which real-life [MASK] was the [MASK] [MASK]? [MASK] BonaPARTAY!!!',\n",
       "  'bert': 'Which real - life pirate was the fastest ship? A BonaPARTAY!!!',\n",
       "  'zephy': \"Which real-life party was the birthday party of the year? Let's get this BonaPARTAY!!! \",\n",
       "  'gpt4': 'Which real-life figure was the best at parties? Napoleon BonaPARTAY!!!'},\n",
       " {'original': 'What is a clinical trial done in October called? a trick or treatment.',\n",
       "  'template': 'What is a [MASK] [MASK] done in October called? a [MASK] or treatment.',\n",
       "  'bert': 'What is a blow job done in October called? a day or treatment.',\n",
       "  'zephy': 'What is a maze corn maze done in October called? a puzzle or treatment.',\n",
       "  'gpt4': 'What is a prank played done in October called? a trick or treatment.'},\n",
       " {'original': 'What do Dothraki use to count their horses? A Khalculator',\n",
       "  'template': 'What do Dothraki use to count their [MASK]? A [MASK]',\n",
       "  'bert': 'What do Dothraki use to count their sheep? A calendar',\n",
       "  'zephy': 'What do Dothraki use to count their sheep? A shepherd.',\n",
       "  'gpt4': 'What do Dothraki use to count their horses? A Khal-culator.'},\n",
       " {'original': 'Why is it called cat nip and not meowjuana?',\n",
       "  'template': 'Why is it called cat [MASK] and not [MASK]?',\n",
       "  'bert': 'Why is it called catfish and not shark?',\n",
       "  'zephy': 'Why is it called cat herder and not cats?',\n",
       "  'gpt4': 'Why is it called cat grooming and not pawdicure?'},\n",
       " {'original': 'Who named the Sperm Whales? Seamen.',\n",
       "  'template': 'Who named the [MASK] Whales? [MASK].',\n",
       "  'bert': 'Who named the hurricane Whales? Hurricane.',\n",
       "  'zephy': 'Who named the Acrobatic Whales? I guess you could say they named themselves!',\n",
       "  'gpt4': 'Who named the Big Whales? Small fish with a sense of humor.'},\n",
       " {'original': 'What do you call the top candidates for fake chicken fingers? Con-tenders.',\n",
       "  'template': 'What do you call the top [MASK] for [MASK] [MASK] fingers? Con-[MASK].',\n",
       "  'bert': 'What do you call the top prize for picking my fingers? Con - jokes.',\n",
       "  'zephy': 'What do you call the top hat for ten-fingered people? Con-noiter.',\n",
       "  'gpt4': 'What do you call the top chef for slicing fingers? Con-cutter.'},\n",
       " {'original': 'How do you clear out a Japanese bingo parlor? B-29',\n",
       "  'template': 'How do you clear out a Japanese [MASK] [MASK]? B-29',\n",
       "  'bert': 'How do you clear out a Japanese cricket team? B - 29',\n",
       "  'zephy': 'How do you clear out a Japanese garden party? B-29',\n",
       "  'gpt4': 'How do you clear out a Japanese theater? B-29.'},\n",
       " {'original': 'What do you call a basketball player on an elliptical? Step Curry',\n",
       "  'template': 'What do you call a basketball [MASK] on an [MASK]? [MASK] Curry',\n",
       "  'bert': 'What do you call a basketball coach on an organ? Michael Curry',\n",
       "  'zephy': 'What do you call a basketball player on fire? Stephen three-point Curry.',\n",
       "  'gpt4': 'What do you call a basketball player on an airplane? Sky Curry.'},\n",
       " {'original': 'What has two legs and bleeds? Half a dog',\n",
       "  'template': 'What has two [MASK] and bleeds? Half a [MASK]',\n",
       "  'bert': 'What has two teeth and bleeds? Half a dollar',\n",
       "  'zephy': 'What has two legs and bleeds? Half a cow.',\n",
       "  'gpt4': 'What has two legs and bleeds? Half a chicken.'},\n",
       " {'original': 'What is The Rock\\'s middle name? \"best station, 107.3FM for all your Classic\"',\n",
       "  'template': 'What is The Rock\\'s [MASK] [MASK]? \"[MASK] [MASK], 107.3FM for all your Classic\"',\n",
       "  'bert': 'What is The Rock\\'s biggest slogan? \" $ 102, 107. 3FM for all your Classic \"',\n",
       "  'zephy': \"What is The Rock's (Furious) (7)th? '(Furious) (7)th', 107.3FM for all your Classic\",\n",
       "  'gpt4': \"What is The Rock's favorite radio station? 'Dwayne's Tunes, 107.3FM for all your Classic Rock'.\"},\n",
       " {'original': 'What do you call a french anime fan? A ouiaboo',\n",
       "  'template': 'What do you call a french [MASK] [MASK]? A [MASK]',\n",
       "  'bert': 'What do you call a french brahman? A blonde',\n",
       "  'zephy': 'What do you call a french cheese mouse? A roquefort',\n",
       "  'gpt4': 'What do you call a French workout coach? A Paris-trainer.'},\n",
       " {'original': \"How do you know when Will Smith gets news shoes? They leave 'fresh prints'\",\n",
       "  'template': \"How do you know when Will Smith gets [MASK] [MASK]? They leave 'fresh [MASK]'\",\n",
       "  'bert': \"How do you know when Will Smith gets his divorce? They leave'freshmen '\",\n",
       "  'zephy': \"How do you know when Will Smith gets prunes? They leave 'fresh prints'.\",\n",
       "  'gpt4': \"How do you know when Will Smith gets sad on set? They leave 'fresh prints'.\"},\n",
       " {'original': 'What do you call a creamy hobbit? Alfrodo',\n",
       "  'template': 'What do you call a creamy [MASK]? [MASK]',\n",
       "  'bert': 'What do you call a creamy cow? cheese',\n",
       "  'zephy': 'What do you call a creamy shell? Bucket.',\n",
       "  'gpt4': 'What do you call a creamy pasta? Fettuccine Alfred-oh!'},\n",
       " {'original': 'Why should you never make love in a cornfield? Because corn has ears!',\n",
       "  'template': 'Why should you never make [MASK] in a [MASK]? Because corn has [MASK]!',\n",
       "  'bert': 'Why should you never make love in a forest? Because corn has teeth!',\n",
       "  'zephy': 'Why should you never make music in a cornfield? Because corn has husks!',\n",
       "  'gpt4': 'Why should you never make fun of a scarecrow? Because corn has ears!'},\n",
       " {'original': 'Why did the blind kid fail geometry? He didnt see the point.',\n",
       "  'template': 'Why did the blind [MASK] fail [MASK]? He didnt see the [MASK].',\n",
       "  'bert': 'Why did the blind boy fail swimming? He didnt see the stars.',\n",
       "  'zephy': \"Why did the blind tennis player fail his serve? He didn't see the ball.\",\n",
       "  'gpt4': 'Why did the blind carpenter fail his test? He didn’t see the point.'},\n",
       " {'original': 'What is it called like when a cannibal eats his own son? Indigest.',\n",
       "  'template': 'What is it called like when a [MASK] eats his own [MASK]? [MASK].',\n",
       "  'bert': 'What is it called like when a farmer eats his own meat? potatoes.',\n",
       "  'zephy': 'What is it called when a cannibal eats his own cannabis? Arrested.',\n",
       "  'gpt4': 'What is it called when a chameleon eats his own tail? A reptile dysfunction.'},\n",
       " {'original': 'Why is United a bad airline? Beats the shit out of me...',\n",
       "  'template': 'Why is [MASK] a bad [MASK]? Beats the [MASK] out of me...',\n",
       "  'bert': 'Why is it a bad dog? Beats the fuck out of me...',\n",
       "  'zephy': 'Why are jokes a bad punchline? Beats the groan out of me...',\n",
       "  'gpt4': 'Why is life a bad joke? Beats the purpose out of me...'},\n",
       " {'original': 'How much room is needed for fungi to grow? As mushroom as possible',\n",
       "  'template': 'How much [MASK] is needed for [MASK] to grow? [MASK] mushroom as [MASK]',\n",
       "  'bert': 'How much money is needed for me to grow? Same mushroom as hell',\n",
       "  'zephy': 'How much water is needed for mushrooms to grow? Add as much compost as...',\n",
       "  'gpt4': 'How much space is needed for fungi to grow? Mush room as possible.'},\n",
       " {'original': 'Why do men finish first during sex? Because Adam came before Eve!',\n",
       "  'template': 'Why do [MASK] finish first during [MASK]? Because Adam came before [MASK]!',\n",
       "  'bert': 'Why do cows finish first during math? Because Adam came before them!',\n",
       "  'zephy': 'Why do alphabets finish first during spelling bees? Because Adam came before zees!',\n",
       "  'gpt4': 'Why do women finish first during alphabet recitations? Because Adam came before Eve!'},\n",
       " {'original': 'Why did all of Britain stop smoking pot? Because they all joined /r/leaves',\n",
       "  'template': 'Why did all of Britain stop smoking [MASK]? Because they all joined /r/[MASK]',\n",
       "  'bert': 'Why did all of Britain stop smoking jokes? Because they all joined / r / joke',\n",
       "  'zephy': 'Why did all of Britain stop smoking cigarettes? Because they all joined r/quitting',\n",
       "  'gpt4': 'Why did all of Britain stop smoking tea? Because they all joined /r/teetotalers'},\n",
       " {'original': \"What's the best part about having a baby? Making it.\",\n",
       "  'template': \"What's the [MASK] part about having a [MASK]? Making it.\",\n",
       "  'bert': \"What's the fastest part about having a dream? Making it.\",\n",
       "  'zephy': \"What's the poop part about having diarrhea? Making it.\",\n",
       "  'gpt4': \"What's the hardest part about having a party? Making it.\"},\n",
       " {'original': 'Who is the best Jewish cook? Hitler.',\n",
       "  'template': 'Who is the [MASK] Jewish [MASK]? [MASK].',\n",
       "  'bert': 'Who is the fastest Jewish rapper? Moses.',\n",
       "  'zephy': 'Who is the lox Jewish deli? Come and be a bagel!',\n",
       "  'gpt4': 'Who is the richest Jewish baker? Dough-nald Trump.'},\n",
       " {'original': 'What’s Chris Brown’s favorite type of music? Beatbox',\n",
       "  'template': 'What’s Chris Brown’s [MASK] [MASK] of [MASK]? [MASK]',\n",
       "  'bert': 'What ’ s Chris Brown ’ s preferred letter of honor? A',\n",
       "  'zephy': 'What’s Chris Brown’s dance move of success?',\n",
       "  'gpt4': 'What’s Chris Brown’s favorite kind of pie? Hit and rum.'},\n",
       " {'original': 'How much does a dead elephant weigh? A skele**ton**.',\n",
       "  'template': 'How much does a [MASK] [MASK] weigh? A skele**ton**.',\n",
       "  'bert': 'How much does a capital whale weigh? A skele * * ton * *.',\n",
       "  'zephy': 'How much does a skeleTON weight? A kiloTON.',\n",
       "  'gpt4': 'How much does a hipster weigh? A skele-ton.'},\n",
       " {'original': 'Why was Mary a virgin? Because Joseph the Carpenter worked his own wood.',\n",
       "  'template': 'Why was Mary a [MASK]? Because Joseph the [MASK] worked his own [MASK].',\n",
       "  'bert': 'Why was Mary a witch? Because Joseph the butcher worked his own thing.',\n",
       "  'zephy': 'Why was Mary a handyman? Because Joseph the lazybones worked his own overtime.',\n",
       "  'gpt4': 'Why was Mary a carpenter? Because Joseph the foreman worked his own miracles.'},\n",
       " {'original': 'What is it called when Batman wants to leave Church early? Christian Bale.',\n",
       "  'template': 'What is it called when [MASK] wants to leave Church [MASK]? [MASK] Bale.',\n",
       "  'bert': 'What is it called when he wants to leave Church today? Father Bale.',\n",
       "  'zephy': 'What is it called when a brick wants to leave Church of England? Brick Bale.',\n",
       "  'gpt4': 'What is it called when Batman wants to leave Church early? Christian Bale.'},\n",
       " {'original': \"How do you stop a dog humping your leg? Suck it's dick.\",\n",
       "  'template': \"How do you stop a [MASK] humping your leg? Suck it's [MASK].\",\n",
       "  'bert': \"How do you stop a horse humping your leg? Suck it's over.\",\n",
       "  'zephy': \"How do you stop a slug humping your leg? Suck it's slime.\",\n",
       "  'gpt4': 'How do you stop a dog humping your leg? Pick it up and pet it.'},\n",
       " {'original': \"What's the worst thing about Jonestown jokes? The punch line.\",\n",
       "  'template': \"What's the [MASK] thing about Jonestown [MASK]? The [MASK] line.\",\n",
       "  'bert': \"What's the worst thing about Jonestown history? The dotted line.\",\n",
       "  'zephy': \"What's the grape thing about Jonestown punch? The Kool-Aid line.\",\n",
       "  'gpt4': \"What's the killer thing about Jonestown cocktails? The punch line.\"},\n",
       " {'original': \"Why can't two dogs ever finish a movie? They keep hitting paws.\",\n",
       "  'template': \"Why can't two [MASK] ever finish a [MASK]? They keep hitting [MASK].\",\n",
       "  'bert': \"Why can't two elephants ever finish a race? They keep hitting him.\",\n",
       "  'zephy': \"Why can't two trains ever finish a race? They keep hitting curves.\",\n",
       "  'gpt4': \"Why can't two elephants ever finish a game? They keep dropping the marbles.\"},\n",
       " {'original': 'How did the hipster burn his tongue? He ate his pizza BEFORE it was cool.',\n",
       "  'template': 'How did the [MASK] burn his tongue? He ate his pizza BEFORE it was [MASK].',\n",
       "  'bert': 'How did the vampire burn his tongue? He ate his pizza BEFORE it was terrible.',\n",
       "  'zephy': 'How did the sloth burn his tongue? He ate his pizza HOT.',\n",
       "  'gpt4': 'How did the hipster burn his tongue? He ate his pizza before it was cool.'},\n",
       " {'original': '\"Dad, can you tell me what a solar eclipse is ?\" \"No Sun\"......',\n",
       "  'template': '\"[MASK], can you tell me what a solar [MASK] is ?\" \"No [MASK]\"......',\n",
       "  'bert': '\" Hey, can you tell me what a solar eclipse is? \" \" No! \"......',\n",
       "  'zephy': 'Chicken, can you tell me what a solar panel is?',\n",
       "  'gpt4': 'Mom, can you tell me what a solar eclipse is? No, son......'},\n",
       " {'original': 'Why does Chuck Norris play cowbell? Because he beats time!',\n",
       "  'template': 'Why does [MASK] Norris play [MASK]? Because he beats [MASK]!',\n",
       "  'bert': 'Why does Chuck Norris play piano? Because he beats drums!',\n",
       "  'zephy': 'Why does Beethoven play symphonies? Because he beats Bach to it!',\n",
       "  'gpt4': 'Why does Chuck Norris play Uno? Because he beats everyone!'},\n",
       " {'original': 'Why did the jalapeno wear a tiny jacket? Because he was just a little chili.',\n",
       "  'template': 'Why did the [MASK] wear a tiny [MASK]? Because he was just a [MASK] [MASK].',\n",
       "  'bert': 'Why did the pirate wear a tiny sack? Because he was just a & r.',\n",
       "  'zephy': 'Why did the elephant wear a tiny trunk? Because he was just a baby elephant.',\n",
       "  'gpt4': 'Why did the atom wear a tiny hat? Because he was just a little element.'},\n",
       " {'original': 'Have you heard of The Tortilla Killer? He was Mexico’s first masa murderer.',\n",
       "  'template': 'Have you heard of The [MASK] Killer? He was [MASK]’s first masa [MASK].',\n",
       "  'bert': 'Have you heard of The Buffalo Killer? He was it ’ s first masaaki.',\n",
       "  'zephy': \"Have you heard of The Chocolate Killer? He was Peanut Butter's first mashed banana.\",\n",
       "  'gpt4': 'Have you heard of The Dough Killer? He was kneaded to death.'},\n",
       " {'original': 'What do you call an Alligator with an Instagram? An instagator.',\n",
       "  'template': 'What do you call an Alligator with an [MASK]? An [MASK].',\n",
       "  'bert': 'What do you call an Alligator with an umbrella? An elephant.',\n",
       "  'zephy': 'What do you call an Alligator in a Vest? An Investigator.',\n",
       "  'gpt4': 'What do you call an Alligator with a vest? An Investigator.'},\n",
       " {'original': 'What do you call a woman standing in the middle of a tennis court? Anette',\n",
       "  'template': 'What do you call a [MASK] standing in the middle of a [MASK] court? [MASK]',\n",
       "  'bert': 'What do you call a man standing in the middle of a volleyball court? Mario',\n",
       "  'zephy': 'What do you call a pigeon standing in the middle of a keyboard? Peck-a-boo!',\n",
       "  'gpt4': 'What do you call a bear standing in the middle of a basketball court? An unexpected player.'},\n",
       " {'original': \"How do you get down from an elephant? You don't. You get down from a goose.\",\n",
       "  'template': \"How do you get down from an [MASK]? You don't. You get down from a [MASK].\",\n",
       "  'bert': \"How do you get down from an apple? You don't. You get down from a duck.\",\n",
       "  'zephy': \"How do you get down from a five-story building? You don't. You take the stairs.\",\n",
       "  'gpt4': \"How do you get down from an elephant? You don't. You get down from a duck.\"},\n",
       " {'original': 'What do you call a lawyer who likes to cook? A Sous-Chef',\n",
       "  'template': 'What do you call a [MASK] who likes to cook? A Sous-[MASK]',\n",
       "  'bert': 'What do you call a woman who likes to cook? A Sous - chef',\n",
       "  'zephy': 'What do you call a garlic who likes to cook? A Sous-garlic.',\n",
       "  'gpt4': 'What do you call a feline who likes to cook? A Sous-chef.'},\n",
       " {'original': 'What Is The Hardest Thing for A Cocaine User To Do? Nothing.',\n",
       "  'template': 'What Is The Hardest Thing for A [MASK] [MASK] To Do? Nothing.',\n",
       "  'bert': 'What Is The Hardest Thing for A Woman Ever To Do? Nothing.',\n",
       "  'zephy': 'What Is The Hardest Thing for A unicorn with rainbows coming out of its butt to Do? Nothing.',\n",
       "  'gpt4': 'What Is The Hardest Thing for A perpetual motion machine To Do? Nothing.'},\n",
       " {'original': 'Where do Crows hang out on friday night? The crow bar.',\n",
       "  'template': 'Where do [MASK] hang out on [MASK] night? The crow [MASK].',\n",
       "  'bert': 'Where do pirates hang out on at night? The crowbar.',\n",
       "  'zephy': 'Where do owls hang out on hoot night? The crow booots.',\n",
       "  'gpt4': 'Where do crows hang out on Saturday night? The crowbar.'},\n",
       " {'original': \"Which room in Donalds Trump's house has the thickest walls? his-panic room.\",\n",
       "  'template': \"Which room in Donalds Trump's [MASK] has the [MASK] [MASK]? his-[MASK] room.\",\n",
       "  'bert': \"Which room in Donalds Trump's closet has the same password? his - secret room.\",\n",
       "  'zephy': \"Which room in Donalds Trump's Oval Office has the Golden Toilet? his-Potus room.\",\n",
       "  'gpt4': \"Which room in Donald Trump's house has the most books? The Twitter room.\"},\n",
       " {'original': 'Why did the gay ghosts get scared? They put the willies up each other',\n",
       "  'template': 'Why did the gay [MASK] get scared? They put the [MASK] up each other',\n",
       "  'bert': 'Why did the gay men get scared? They put the hell up each other',\n",
       "  'zephy': 'Why did the gay wind chimes get scared? They put the melody up each other.',\n",
       "  'gpt4': 'Why did the gay scarecrow get scared? They put the fear of straw in each other.'},\n",
       " {'original': 'How do you make a fruit punch ? Give it boxing lessons !',\n",
       "  'template': 'How do you make a [MASK] punch ? Give it [MASK] lessons !',\n",
       "  'bert': 'How do you make a good punch? Give it the lessons!',\n",
       "  'zephy': 'How do you make a wimp punch? Give it dance lessons!',\n",
       "  'gpt4': 'How do you make a tissue punch? Give it boxing lessons!'},\n",
       " {'original': 'What do you call a Mexican bodybuilder who’s run out of protein? No whey Jose.',\n",
       "  'template': 'What do you call a Mexican [MASK] who’s run out of [MASK]? No [MASK] Jose.',\n",
       "  'bert': 'What do you call a Mexican boy who ’ s run out of cash? No Juan Jose.',\n",
       "  'zephy': 'What do you call a Mexican lime who’s run out of water? No more Limon Jose.',\n",
       "  'gpt4': 'What do you call a Mexican magician who’s run out of magic? No Juan left to trick.'},\n",
       " {'original': 'What is the sound of one hand clapping? Fap, fap, fap',\n",
       "  'template': 'What is the [MASK] of one hand clapping? Fap, fap, fap',\n",
       "  'bert': 'What is the opposite of one hand clapping? Fap, fap, fap',\n",
       "  'zephy': 'What is the snap, snap, snap of one hand clapping?',\n",
       "  'gpt4': 'What is the sound of one hand clapping? Fap, fap, fap'},\n",
       " {'original': \"What's the favourite beer of a jew? A lager!\",\n",
       "  'template': \"What's the [MASK] beer of a [MASK]? A [MASK]!\",\n",
       "  'bert': \"What's the last beer of a pirate? A duck!\",\n",
       "  'zephy': \"What's the horse beer of a carousel? A merry-go-round!\",\n",
       "  'gpt4': \"What's the favourite beer of a mathematician? A pint of Pi!\"},\n",
       " {'original': \"You guys ever try boiled pasta? It's not as crunchy but it's alright\",\n",
       "  'template': \"You guys [MASK] try boiled [MASK]? It's not as [MASK] but it's [MASK]\",\n",
       "  'bert': \"You guys, try boiled water? It's not as fast but it's pointless\",\n",
       "  'zephy': \"You guys eat your vegetables raw? It's not as crunchy but it's more fiber-y.\",\n",
       "  'gpt4': \"You guys ever try boiled pizza? It's not as cheesy but it's definitely soup-rising\"},\n",
       " {'original': \"What's a reindeer's favourite celebrity? Beyonsleigh\",\n",
       "  'template': \"What's a [MASK]'s favourite [MASK]? [MASK]\",\n",
       "  'bert': \"What's a pirate's favourite band? U2\",\n",
       "  'zephy': \"What's an owl's favourite tree? Hoot.\",\n",
       "  'gpt4': \"What's a ghost's favourite dessert? Boo-berry pie\"},\n",
       " {'original': 'What do you call the money a prostitute makes? Incum',\n",
       "  'template': 'What do you call the [MASK] a prostitute makes? Incum',\n",
       "  'bert': 'What do you call the noises a prostitute makes? Incum',\n",
       "  'zephy': 'What do you call the revenue a prostitute makes?',\n",
       "  'gpt4': 'What do you call the money a prostitute makes? Incum'},\n",
       " {'original': \"What did one nut say to the other? Nut-thing!  ....I'll see myself out.\",\n",
       "  'template': \"What did one [MASK] say to the other? [MASK]-thing!  ....I'll see myself out.\",\n",
       "  'bert': \"What did one bee say to the other? Bee - thing!.... I'll see myself out.\",\n",
       "  'zephy': \"What did one sandwich say to the other? Sandwich-y!...I'll pickle myself out.\",\n",
       "  'gpt4': 'What did one wall say to the other? Meet you at the corner!'},\n",
       " {'original': 'Biggest Jewish Dilemma? Free Bacon!!',\n",
       "  'template': '[MASK] [MASK] Dilemma? [MASK] Bacon!!',\n",
       "  'bert': 'Is your Dilemma? A Bacon!!',\n",
       "  'zephy': 'Should I take the sugar or the salt? Bacon!',\n",
       "  'gpt4': 'Social Media Dilemma? Post Bacon!!'},\n",
       " {'original': \"Wana hear a construction joke? I'm still working on it\",\n",
       "  'template': \"Wana hear a construction [MASK]? I'm [MASK] working on it\",\n",
       "  'bert': \"Wana hear a construction song? I'm actually working on it\",\n",
       "  'zephy': \"Wanna hear a construction site? I'm just hammering working on it.\",\n",
       "  'gpt4': \"Wanna hear a construction joke? I'm still working on it\"},\n",
       " {'original': 'Wanna see some black magic? Sorry, i meant African American Magic',\n",
       "  'template': 'Wanna see some black [MASK]? Sorry, i meant [MASK] [MASK] Magic',\n",
       "  'bert': 'Wanna see some black holes? Sorry, i meant nothing. Magic',\n",
       "  'zephy': 'Wanna see some black cows? Sorry, I meant white doves Magic',\n",
       "  'gpt4': 'Wanna see some black humor? Sorry, I meant dark roasted Magic'},\n",
       " {'original': 'What do you call a pet Ewok that stays inside? An Endor pet',\n",
       "  'template': 'What do you call a [MASK] Ewok that stays [MASK]? An Endor [MASK]',\n",
       "  'bert': 'What do you call a gay Ewok that stays silent? An Endor!',\n",
       "  'zephy': 'What do you call a dancing Ewok that stays funky? An Endor funkster.',\n",
       "  'gpt4': 'What do you call a chubby Ewok that stays inside? An Endor-sed Weight Watcher'},\n",
       " {'original': \"What do you call a moth in a supermarket? I can't believe it's not butterfly.\",\n",
       "  'template': \"What do you call a [MASK] in a supermarket? I can't believe it's not [MASK].\",\n",
       "  'bert': \"What do you call a condom in a supermarket? I can't believe it's not yours.\",\n",
       "  'zephy': \"What do you call a banana in a supermarket? I can't believe it's not butter.\",\n",
       "  'gpt4': \"What do you call a butter in a supermarket? I can't believe it's not shopper.\"},\n",
       " {'original': 'What do you call a square chicken? A cockblock',\n",
       "  'template': 'What do you call a [MASK] chicken? A [MASK]',\n",
       "  'bert': 'What do you call a dead chicken? A skeleton',\n",
       "  'zephy': 'What do you call a naked chicken? A chicken in a potty.',\n",
       "  'gpt4': 'What do you call an indecisive chicken? A peck-culiar.'},\n",
       " {'original': 'What vegetable is good at martial arts? Broc Lee!',\n",
       "  'template': 'What [MASK] is good at [MASK] arts? [MASK] Lee!',\n",
       "  'bert': 'What dog is good at liberal arts? Bruce Lee!',\n",
       "  'zephy': 'What swan is good at dance arts? Giselle Lee!',\n",
       "  'gpt4': 'What vegetable is good at martial arts? Brocco Lee!'},\n",
       " {'original': 'What do you call a lion who doesn’t eat meat? A dead lion',\n",
       "  'template': 'What do you call a [MASK] who doesn’t eat meat? A [MASK] lion',\n",
       "  'bert': 'What do you call a guy who doesn ’ t eat meat? A hungry lion',\n",
       "  'zephy': \"What do you call a vegetarian who doesn't eat meat? A lox lion.\",\n",
       "  'gpt4': 'What do you call a cat who doesn’t eat meat? A purr-sian lion'},\n",
       " {'original': '\"Why do you enjoy running geese over in your car?\" \"It gives me Goose Bumps!\"',\n",
       "  'template': '\"Why do you enjoy running [MASK] over in your car?\" \"It gives me [MASK] Bumps!\"',\n",
       "  'bert': '\" Why do you enjoy running and over in your car? \" \" It gives me two Bumps! \"',\n",
       "  'zephy': 'Why do you enjoy running speed bumps over in your car?',\n",
       "  'gpt4': '\"Why do you enjoy running words over in your car?\" \"It gives me grammar Bumps!\"'},\n",
       " {'original': 'What do you call 100 drowning vegans? A good start',\n",
       "  'template': 'What do you call 100 drowning [MASK]? A good [MASK]',\n",
       "  'bert': 'What do you call 100 drowning dogs? A good race',\n",
       "  'zephy': 'What do you call 100 drowning pencils? A good graph.',\n",
       "  'gpt4': 'What do you call 100 drowning lawyers? A good start'},\n",
       " {'original': \"What is a redditor's best character in Super Smash Brothers? Meta-Knight\",\n",
       "  'template': \"What is a [MASK]'s [MASK] [MASK] in Super Smash Brothers? [MASK]-Knight\",\n",
       "  'bert': \"What is a terrorist's favourite weapon in Super Smash Brothers? Anti - Knight\",\n",
       "  'zephy': \"What is a Pikachu's Thunder Jolt in Super Smash Brothers? Electric-Knight\",\n",
       "  'gpt4': \"What is a ghost's favorite move in Super Smash Brothers? Boo-Knight\"},\n",
       " {'original': 'Why did religion cross the road? God is the answer.',\n",
       "  'template': 'Why did [MASK] cross the road? God is the [MASK].',\n",
       "  'bert': 'Why did Jesus cross the road? God is the cross.',\n",
       "  'zephy': 'Why did chickens cross the road? God is the cage.',\n",
       "  'gpt4': 'Why did the chicken cross the road? God is the cluck-splanation.'},\n",
       " {'original': \"What does my dad have in common with Nemo? They both can't be found.\",\n",
       "  'template': \"What does my [MASK] have in [MASK] with Nemo? They both can't be found.\",\n",
       "  'bert': \"What does my dog have in mind with Nemo? They both can't be found.\",\n",
       "  'zephy': \"What does my wallet have in pockets with Nemo? They both can't be found.\",\n",
       "  'gpt4': \"What does my dad have in common with Nemo? They both can't be found.\"},\n",
       " {'original': 'Why did the chicken cross the stage? To get to the other aside!',\n",
       "  'template': 'Why did the chicken cross the [MASK]? To get to the [MASK] aside!',\n",
       "  'bert': 'Why did the chicken cross the border? To get to the fence aside!',\n",
       "  'zephy': 'Why did the chicken cross the road? To get to the cluck aside!',\n",
       "  'gpt4': 'Why did the chicken cross the playground? To get to the other slide!'},\n",
       " {'original': 'Why was Sir Isaac Newton buried at Westminster Abbey? Because he was dead.',\n",
       "  'template': 'Why was [MASK] Isaac Newton buried at [MASK] [MASK]? Because he was [MASK].',\n",
       "  'bert': 'Why was Isaac Isaac Newton buried at my funeral? Because he was hanged.',\n",
       "  'zephy': 'Why was apple Isaac Newton buried at Woolsthorpe Manor? Because he was a real goober.',\n",
       "  'gpt4': 'Why was the apple Isaac Newton buried at sea? Because he was gravity-defying.'},\n",
       " {'original': \"How do a neckbeard's cells divide? by m'tosis\",\n",
       "  'template': \"How do a neckbeard's [MASK] divide? by m'tosis\",\n",
       "  'bert': \"How do a neckbeard's sperm divide? by m'tosis\",\n",
       "  'zephy': \"How do a neckbeard's hairs divide? by m'tosis\",\n",
       "  'gpt4': \"How do a neckbeard's cells divide? By m'tosis\"},\n",
       " {'original': 'What do you call a skinny Pakistani cow? A moo-slim.',\n",
       "  'template': 'What do you call a [MASK] Pakistani [MASK]? A moo-[MASK].',\n",
       "  'bert': 'What do you call a gay Pakistani cow? A moo - bee.',\n",
       "  'zephy': 'What do you call a cow Pakistani? A moo-stanis.',\n",
       "  'gpt4': 'What do you call a weightlifting Pakistani dairy farmer? A moo-scle.'},\n",
       " {'original': \"How do you tell if you're at a gay barbecue? The hot dogs taste like crap\",\n",
       "  'template': \"How do you tell if you're at a gay [MASK]? The hot [MASK] taste like [MASK]\",\n",
       "  'bert': \"How do you tell if you're at a gay funeral? The hotdog taste like hell\",\n",
       "  'zephy': \"How do you tell if you're at a gay disco? The hot guys taste like disco balls.\",\n",
       "  'gpt4': \"How do you tell if you're at a gay BBQ? The hot dogs taste like quiche.\"},\n",
       " {'original': 'Why do gingers have sore feet? Because they have no soles.',\n",
       "  'template': 'Why do [MASK] have sore [MASK]? Because they have no [MASK].',\n",
       "  'bert': 'Why do horses have sore ears? Because they have no nostrils.',\n",
       "  'zephy': 'Why do emojis have sore smiles? Because they have no frowns.',\n",
       "  'gpt4': 'Why do ghosts have sore throats? Because they have no body to cough for them.'},\n",
       " {'original': 'I wonder what turtle tastes like? It tastes like plastic.',\n",
       "  'template': 'I wonder what [MASK] tastes like? It tastes like [MASK].',\n",
       "  'bert': 'I wonder what cheese tastes like? It tastes like pork.',\n",
       "  'zephy': \"I wonder what a duck tastes like? It tastes like a lot of cluckin'!\",\n",
       "  'gpt4': 'I wonder what silence tastes like? It tastes like unsaid words.'},\n",
       " {'original': 'Did you hear the winner of the Mime world championships? Neither did I.',\n",
       "  'template': 'Did you hear the [MASK] of the Mime world [MASK]? Neither did I.',\n",
       "  'bert': 'Did you hear the story of the Mime world joke? Neither did I.',\n",
       "  'zephy': 'Did you hear the silent disco of the Mime world fall? Neither did I.',\n",
       "  'gpt4': 'Did you hear the autobiography of the Mime world came out? Neither did I.'},\n",
       " {'original': 'Did you hear the joke about the elevator? It works on so many levels',\n",
       "  'template': 'Did you hear the joke about the [MASK]? It works on so [MASK] [MASK]',\n",
       "  'bert': 'Did you hear the joke about the oven? It works on soy!',\n",
       "  'zephy': \"Did you hear the joke about the banana? It's absolutely peel-icious.\",\n",
       "  'gpt4': 'Did you hear the joke about the broken pencil? It works on so many pointless levels.'},\n",
       " {'original': \"Why couldn't the geologist part with her rock collection? It was sedimental.\",\n",
       "  'template': \"Why couldn't the [MASK] part with her rock [MASK]? It was [MASK].\",\n",
       "  'bert': \"Why couldn't the piano part with her rock guitar? It was boring.\",\n",
       "  'zephy': \"Why couldn't the diva quit her diamonds vibrato? It was too precious.\",\n",
       "  'gpt4': \"Why couldn't the geologist part with her rock collection? It was gneiss.\"},\n",
       " {'original': 'Why did Serj Tankian cross the road? because he wanted to...',\n",
       "  'template': 'Why did [MASK] Tankian cross the [MASK]? because he wanted to...',\n",
       "  'bert': 'Why did a Tankian cross the border? because he wanted to...',\n",
       "  'zephy': 'Why did Serj Tankian cross the stage? because he wanted to unleash a symphony with his band System of a Down on the other side!',\n",
       "  'gpt4': 'Why did Serj Tankian cross the road? Because he wanted to System of a Down the other side.'},\n",
       " {'original': 'What does the Sun and my girlfriend have in common? they circle the pole.',\n",
       "  'template': 'What does the Sun and my [MASK] have in [MASK]? they circle the [MASK].',\n",
       "  'bert': 'What does the Sun and my wife have in mind? they circle the sky.',\n",
       "  'zephy': 'What does the Sun and my finger have in orbit? they circle the earth.',\n",
       "  'gpt4': 'What does the Sun and my pizza have in common? They both circle the cravings.'},\n",
       " {'original': 'What makes an ISIS joke funny? The execution',\n",
       "  'template': 'What makes an ISIS [MASK] [MASK]? The [MASK]',\n",
       "  'bert': 'What makes an ISIS joke worse? The password',\n",
       "  'zephy': 'What makes an ISIS sandcastle collapse?',\n",
       "  'gpt4': 'What makes an ISIS joke bad? The execution.'},\n",
       " {'original': \"What do you call a lazy crocodile? A procrastigator (I'm trash)\",\n",
       "  'template': \"What do you call a lazy [MASK]? A procrastigator (I'm [MASK])\",\n",
       "  'bert': \"What do you call a lazy clown? A procrastigator ( I'm tired )\",\n",
       "  'zephy': \"What do you call a lazy cow? A moo-crastinator (I'm a moo-er).\",\n",
       "  'gpt4': \"What do you call a lazy alligator? A procrastigator (I'm snoring)\"},\n",
       " {'original': \"Why did Yoda turn Santa's sleigh around? Because he always reverses clauses.\",\n",
       "  'template': \"Why did Yoda turn [MASK]'s [MASK] around? Because he always reverses [MASK].\",\n",
       "  'bert': \"Why did Yoda turn Santa's finger around? Because he always reverses directions.\",\n",
       "  'zephy': \"Why did Yoda turn a podracer's booster around? Because he always reverses podracers.\",\n",
       "  'gpt4': \"Why did Yoda turn the sentence's structure around? Because he always reverses the syntax.\"},\n",
       " {'original': \"What do you call a half Irish half Muslim husband? O'Pressive.\",\n",
       "  'template': \"What do you call a half [MASK] half Muslim [MASK]? O'Pressive.\",\n",
       "  'bert': \"What do you call a half ass half Muslim spy? O'Pressive.\",\n",
       "  'zephy': \"What do you call a half donut half Catholic school? O'Pressive.\",\n",
       "  'gpt4': \"What do you call a half Irish half Muslim person? O'Pressive.\"},\n",
       " {'original': 'What does Soulja Boy say when he dance-steps in a turd?',\n",
       "  'template': 'What does [MASK] Boy say when he dance-steps in a [MASK]?',\n",
       "  'bert': 'What does the Boy say when he dance - steps in a canoe?',\n",
       "  'zephy': 'What does Michael Jackson say when he moonwalks in a thriller?',\n",
       "  'gpt4': 'What does Elastic Boy say when he dance-steps in a puddle? \"This is stretching it!\"'},\n",
       " {'original': 'Which rap duo do physicists like the most? Run the Joules',\n",
       "  'template': 'Which [MASK] duo do [MASK] like the most? Run the [MASK]',\n",
       "  'bert': 'Which stunt duo do pirates like the most? Run the boat',\n",
       "  'zephy': 'Which peanut butter and jelly duo do squirrels like the most? Run the marathon.',\n",
       "  'gpt4': 'Which battery duo do robots like the most? Run the Currents'},\n",
       " {'original': \"Why'd the pizza hipster have a burnt tongue? He ate it before it was cool.\",\n",
       "  'template': \"Why'd the pizza [MASK] have a burnt [MASK]? He ate it before it was [MASK].\",\n",
       "  'bert': \"Why'd the pizza boy have a burnt tongue? He ate it before it was cool.\",\n",
       "  'zephy': 'Why did the pizza slide have a burnt slice? He ate it before it was delivered.',\n",
       "  'gpt4': \"Why'd the pizza maker have a burnt crust? He ate it before it was cool.\"},\n",
       " {'original': \"Did you know Stevie Wonder was black? He didn't.\",\n",
       "  'template': \"Did you know [MASK] Wonder was [MASK]? He didn't.\",\n",
       "  'bert': \"Did you know Stevie Wonder was adopted? He didn't.\",\n",
       "  'zephy': \"Did you know Superman was a secret agent? He didn't.\",\n",
       "  'gpt4': \"Did you know Stevie Wonder was moving? He didn't.\"},\n",
       " {'original': 'Where can you find a dog with no legs? Right where you left him.',\n",
       "  'template': 'Where can you find a [MASK] with no legs? [MASK] where you left him.',\n",
       "  'bert': 'Where can you find a horse with no legs? Exactly where you left him.',\n",
       "  'zephy': 'Where can you find a dime with no legs? On the floor where you dropped him.',\n",
       "  'gpt4': 'Where can you find a dog with no legs? Right where you left him.'}]"
      ]
     },
     "execution_count": 47,
     "metadata": {},
     "output_type": "execute_result"
    }
   ],
   "source": [
    "final_dump"
   ]
  },
  {
   "cell_type": "code",
   "execution_count": 48,
   "id": "35f638af",
   "metadata": {},
   "outputs": [],
   "source": [
    "with open(\"output_dump.pkl\",\"wb\") as f:\n",
    "    pickle.dump(final_dump, f)"
   ]
  },
  {
   "cell_type": "code",
   "execution_count": 49,
   "id": "d92d51c4",
   "metadata": {},
   "outputs": [],
   "source": [
    "f = open(\"../../jokegen/train.txt\")\n",
    "data = f.readlines()\n",
    "data = [i for i in data if len(i)>15]"
   ]
  },
  {
   "cell_type": "code",
   "execution_count": 50,
   "id": "290469ba",
   "metadata": {},
   "outputs": [
    {
     "data": {
      "text/plain": [
       "211184"
      ]
     },
     "execution_count": 50,
     "metadata": {},
     "output_type": "execute_result"
    }
   ],
   "source": [
    "len(data)"
   ]
  },
  {
   "cell_type": "code",
   "execution_count": 53,
   "id": "fb7a2614",
   "metadata": {},
   "outputs": [],
   "source": [
    "import random\n",
    "random.shuffle(data)"
   ]
  },
  {
   "cell_type": "code",
   "execution_count": 55,
   "id": "8c9458a2",
   "metadata": {},
   "outputs": [],
   "source": [
    "human_jokes = [i.strip() for i in data[:100]]"
   ]
  },
  {
   "cell_type": "code",
   "execution_count": 57,
   "id": "a6227549",
   "metadata": {},
   "outputs": [],
   "source": [
    "with open(\"human_dump.pkl\",\"wb\") as f:\n",
    "    pickle.dump(human_jokes, f)"
   ]
  },
  {
   "cell_type": "code",
   "execution_count": null,
   "id": "f3c34ea2",
   "metadata": {},
   "outputs": [],
   "source": []
  }
 ],
 "metadata": {
  "kernelspec": {
   "display_name": "conda env",
   "language": "python",
   "name": "env"
  },
  "language_info": {
   "codemirror_mode": {
    "name": "ipython",
    "version": 3
   },
   "file_extension": ".py",
   "mimetype": "text/x-python",
   "name": "python",
   "nbconvert_exporter": "python",
   "pygments_lexer": "ipython3",
   "version": "3.11.6"
  }
 },
 "nbformat": 4,
 "nbformat_minor": 5
}
